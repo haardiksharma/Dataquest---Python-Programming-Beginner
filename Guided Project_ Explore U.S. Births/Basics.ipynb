{
 "cells": [
  {
   "cell_type": "code",
   "execution_count": 6,
   "metadata": {
    "collapsed": false
   },
   "outputs": [
    {
     "data": {
      "text/plain": [
       "['year,month,date_of_month,day_of_week,births',\n",
       " '1994,1,1,6,8096',\n",
       " '1994,1,2,7,7772',\n",
       " '1994,1,3,1,10142',\n",
       " '1994,1,4,2,11248',\n",
       " '1994,1,5,3,11053',\n",
       " '1994,1,6,4,11406',\n",
       " '1994,1,7,5,11251',\n",
       " '1994,1,8,6,8653',\n",
       " '1994,1,9,7,7910',\n",
       " '1994,1,10,1,10498']"
      ]
     },
     "execution_count": 6,
     "metadata": {},
     "output_type": "execute_result"
    }
   ],
   "source": [
    "f = open(\"US_births_1994-2003_CDC_NCHS.csv\",\"r\")\n",
    "data = f.read()\n",
    "data = data.split(\"\\n\")\n",
    "data[0:11]"
   ]
  },
  {
   "cell_type": "code",
   "execution_count": 7,
   "metadata": {
    "collapsed": true
   },
   "outputs": [
    {
     "data": {
      "text/plain": [
       "[['year', 'month', 'date_of_month', 'day_of_week', 'births'],\n",
       " ['1994', '1', '1', '6', '8096'],\n",
       " ['1994', '1', '2', '7', '7772'],\n",
       " ['1994', '1', '3', '1', '10142'],\n",
       " ['1994', '1', '4', '2', '11248'],\n",
       " ['1994', '1', '5', '3', '11053'],\n",
       " ['1994', '1', '6', '4', '11406'],\n",
       " ['1994', '1', '7', '5', '11251'],\n",
       " ['1994', '1', '8', '6', '8653'],\n",
       " ['1994', '1', '9', '7', '7910'],\n",
       " ['1994', '1', '10', '1', '10498']]"
      ]
     },
     "execution_count": 7,
     "metadata": {},
     "output_type": "execute_result"
    }
   ],
   "source": [
    "data_list = []\n",
    "for i in data:\n",
    "    data_list.append(i.split(\",\"))\n",
    "data_list[0:11]"
   ]
  },
  {
   "cell_type": "code",
   "execution_count": 8,
   "metadata": {
    "collapsed": true
   },
   "outputs": [
    {
     "data": {
      "text/plain": [
       "[[1994, 1, 1, 6, 8096],\n",
       " [1994, 1, 2, 7, 7772],\n",
       " [1994, 1, 3, 1, 10142],\n",
       " [1994, 1, 4, 2, 11248],\n",
       " [1994, 1, 5, 3, 11053],\n",
       " [1994, 1, 6, 4, 11406],\n",
       " [1994, 1, 7, 5, 11251],\n",
       " [1994, 1, 8, 6, 8653],\n",
       " [1994, 1, 9, 7, 7910],\n",
       " [1994, 1, 10, 1, 10498]]"
      ]
     },
     "execution_count": 8,
     "metadata": {},
     "output_type": "execute_result"
    }
   ],
   "source": [
    "#code to create a list by extracting the list elements and converting them to int \n",
    "\n",
    "data_list = data_list[1:len(data_list)] #removing the header element \n",
    "elmIntLst = [] #declaring a element list to persist the list elements from data\n",
    "\n",
    "for i in data_list: # converting the list element into the int\n",
    "    year = int(i[0])\n",
    "    month = int(i[1])\n",
    "    date_of_month = int(i[2])\n",
    "    day_of_week = int(i[3])\n",
    "    births = int(i[4])\n",
    "    \n",
    "    intlst = [] # initialising a temp list to stage the values\n",
    "    intlst.append(year)\n",
    "    intlst.append(month)\n",
    "    intlst.append(date_of_month)\n",
    "    intlst.append(day_of_week)\n",
    "    intlst.append(births)\n",
    "    \n",
    "    elmIntLst.append(intlst) # appending the staged list to the element list\n",
    "    \n",
    "elmIntLst[0:10]"
   ]
  },
  {
   "cell_type": "code",
   "execution_count": 5,
   "metadata": {
    "collapsed": false
   },
   "outputs": [],
   "source": [
    "# writing a function \"read_csv\" to import the data, split it and return the int values \n",
    "def read_csv(fname,head = True):\n",
    "    f = open(fname,\"r\")\n",
    "    raw = f.read()\n",
    "    string_list  = raw.split(\"\\n\")\n",
    "    if head == True:\n",
    "        string_list  = string_list [1:len(string_list )]\n",
    "        #string_list  = string_list [1:20] #used for unit testing\n",
    "    \n",
    "    final_list = []\n",
    "    \n",
    "    for i in string_list:\n",
    "        string_fields = []\n",
    "        string_fields.append(i.split(\",\"))\n",
    "        for i in string_fields:\n",
    "            year = int(i[0])\n",
    "            month = int(i[1])\n",
    "            date_of_month = int(i[2])\n",
    "            day_of_week = int(i[3])\n",
    "            births = int(i[4])\n",
    "    \n",
    "            int_fields = [] # initialising a temp list to stage the values\n",
    "            int_fields.append(year)\n",
    "            int_fields.append(month)\n",
    "            int_fields.append(date_of_month)\n",
    "            int_fields.append(day_of_week)\n",
    "            int_fields.append(births)\n",
    "    \n",
    "            final_list.append(int_fields) # appending the staged list to the element list\n",
    "        \n",
    "    return final_list\n",
    "    \n",
    "    \n",
    "    "
   ]
  },
  {
   "cell_type": "code",
   "execution_count": 8,
   "metadata": {
    "collapsed": false
   },
   "outputs": [
    {
     "data": {
      "text/plain": [
       "[[1994, 1, 1, 6, 8096],\n",
       " [1994, 1, 2, 7, 7772],\n",
       " [1994, 1, 3, 1, 10142],\n",
       " [1994, 1, 4, 2, 11248],\n",
       " [1994, 1, 5, 3, 11053],\n",
       " [1994, 1, 6, 4, 11406],\n",
       " [1994, 1, 7, 5, 11251],\n",
       " [1994, 1, 8, 6, 8653],\n",
       " [1994, 1, 9, 7, 7910],\n",
       " [1994, 1, 10, 1, 10498]]"
      ]
     },
     "execution_count": 8,
     "metadata": {},
     "output_type": "execute_result"
    }
   ],
   "source": [
    "cdc_list = read_csv(\"US_births_1994-2003_CDC_NCHS.csv\")\n",
    "cdc_list [0:10]"
   ]
  },
  {
   "cell_type": "code",
   "execution_count": 10,
   "metadata": {
    "collapsed": true
   },
   "outputs": [
    {
     "data": {
      "text/plain": [
       "{1: 3232517,\n",
       " 2: 3018140,\n",
       " 3: 3322069,\n",
       " 4: 3185314,\n",
       " 5: 3350907,\n",
       " 6: 3296530,\n",
       " 7: 3498783,\n",
       " 8: 3525858,\n",
       " 9: 3439698,\n",
       " 10: 3378814,\n",
       " 11: 3171647,\n",
       " 12: 3301860}"
      ]
     },
     "execution_count": 10,
     "metadata": {},
     "output_type": "execute_result"
    }
   ],
   "source": [
    "#code to perform the aggregation of number of birth per month basis\n",
    "#used dictionary to define month based keys and summed births accordingly\n",
    "\n",
    "dknry = {}\n",
    "for i in cdc_list:\n",
    "    if i[1] in dknry:\n",
    "        dknry[i[1]] += i[4]\n",
    "    else:\n",
    "        dknry[i[1]] = i[4]\n",
    "dknry"
   ]
  },
  {
   "cell_type": "code",
   "execution_count": 17,
   "metadata": {
    "collapsed": true
   },
   "outputs": [],
   "source": [
    "# writing a function \"month_births()\" to perform the aggregation of number of birth per month basis\n",
    "def month_births(lstoflst):\n",
    "    births_per_month = {}\n",
    "    \n",
    "    for i in lstoflst: # Iterate over the list of lists\n",
    "        month = i[1]\n",
    "        births = i[4]\n",
    "        \n",
    "        if month in births_per_month: #f the month value already exists as a key in births_per_month, the births value is added to the existing value.\n",
    "            \n",
    "            births_per_month[month] += births\n",
    "        else:\n",
    "            births_per_month[month] = births #If the month value doesn't exist as a key in births_per_month, it's created and the associated value is the births value.\n",
    "            \n",
    "    return births_per_month\n"
   ]
  },
  {
   "cell_type": "code",
   "execution_count": 18,
   "metadata": {
    "collapsed": false
   },
   "outputs": [
    {
     "data": {
      "text/plain": [
       "{1: 3232517,\n",
       " 2: 3018140,\n",
       " 3: 3322069,\n",
       " 4: 3185314,\n",
       " 5: 3350907,\n",
       " 6: 3296530,\n",
       " 7: 3498783,\n",
       " 8: 3525858,\n",
       " 9: 3439698,\n",
       " 10: 3378814,\n",
       " 11: 3171647,\n",
       " 12: 3301860}"
      ]
     },
     "execution_count": 18,
     "metadata": {},
     "output_type": "execute_result"
    }
   ],
   "source": [
    "#function call\n",
    "cdc_list = read_csv(\"US_births_1994-2003_CDC_NCHS.csv\")\n",
    "cdc_month_births = month_births(cdc_list)\n",
    "cdc_month_births"
   ]
  },
  {
   "cell_type": "code",
   "execution_count": 21,
   "metadata": {
    "collapsed": false
   },
   "outputs": [],
   "source": [
    "# writing a function \"dow_births()\" to perform the aggregation of number of birth per dayofweek basis\n",
    "def dow_births(lstoflst):\n",
    "    births_per_dow = {}\n",
    "    \n",
    "    for i in lstoflst: # Iterate over the list of lists\n",
    "        dayofweek = i[3]\n",
    "        births = i[4]\n",
    "        \n",
    "        if dayofweek in births_per_dow: #f the dayofweek value already exists as a key in births_per_dow, the births value is added to the existing value.\n",
    "            \n",
    "            births_per_dow[dayofweek] += births\n",
    "        else:\n",
    "            births_per_dow[dayofweek] = births #If the dayofweek value doesn't exist as a key in births_per_dow, it's created and the associated value is the births value.\n",
    "            \n",
    "    return births_per_dow"
   ]
  },
  {
   "cell_type": "code",
   "execution_count": 22,
   "metadata": {
    "collapsed": true
   },
   "outputs": [
    {
     "data": {
      "text/plain": [
       "{1: 5789166,\n",
       " 2: 6446196,\n",
       " 3: 6322855,\n",
       " 4: 6288429,\n",
       " 5: 6233657,\n",
       " 6: 4562111,\n",
       " 7: 4079723}"
      ]
     },
     "execution_count": 22,
     "metadata": {},
     "output_type": "execute_result"
    }
   ],
   "source": [
    "#function call\n",
    "cdc_list = read_csv(\"US_births_1994-2003_CDC_NCHS.csv\")\n",
    "cdc_day_births = dow_births(cdc_list)\n",
    "cdc_day_births"
   ]
  },
  {
   "cell_type": "code",
   "execution_count": 25,
   "metadata": {
    "collapsed": true
   },
   "outputs": [],
   "source": [
    "# writing a function \"calc_counts()\" to perform the aggregation of number of birth for column of interest\n",
    "def calc_counts(lstoflst,column):\n",
    "    birthsDknry = {}\n",
    "    \n",
    " \n",
    "    for i in lstoflst: # Iterate over the list of lists\n",
    "        clmnval = i[column]\n",
    "        births = i[4]\n",
    "        \n",
    "        if clmnval in birthsDknry: #f the clmnval value already exists as a key in birthsDknry, the births value is added to the existing value.\n",
    "            \n",
    "            birthsDknry[clmnval] += births\n",
    "        else:\n",
    "            birthsDknry[clmnval] = births #If the clmnval value doesn't exist as a key in birthsDknry, it's created and the associated value is the births value.\n",
    "            \n",
    "    return birthsDknry"
   ]
  },
  {
   "cell_type": "code",
   "execution_count": 28,
   "metadata": {
    "collapsed": false
   },
   "outputs": [],
   "source": [
    "cdc_year_births = calc_counts(cdc_list,0)\n",
    "cdc_month_births =  calc_counts(cdc_list,1)\n",
    "cdc_dom_births =  calc_counts(cdc_list,2)\n",
    "cdc_dow_births =  calc_counts(cdc_list,3)"
   ]
  },
  {
   "cell_type": "code",
   "execution_count": null,
   "metadata": {
    "collapsed": true
   },
   "outputs": [],
   "source": []
  }
 ],
 "metadata": {
  "anaconda-cloud": {},
  "kernelspec": {
   "display_name": "Python 3",
   "language": "python",
   "name": "python3"
  },
  "language_info": {
   "codemirror_mode": {
    "name": "ipython",
    "version": 3
   },
   "file_extension": ".py",
   "mimetype": "text/x-python",
   "name": "python",
   "nbconvert_exporter": "python",
   "pygments_lexer": "ipython3",
   "version": "3.4.3"
  }
 },
 "nbformat": 4,
 "nbformat_minor": 1
}
